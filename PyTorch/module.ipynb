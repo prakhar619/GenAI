{
 "cells": [
  {
   "cell_type": "code",
   "execution_count": 1,
   "metadata": {},
   "outputs": [],
   "source": [
    "import torch\n",
    "import torch.nn as nn"
   ]
  },
  {
   "cell_type": "markdown",
   "metadata": {},
   "source": [
    "Module  \n",
    "Base class for all neural network modules.\n",
    "- Variables  \n",
    "     - training (bool)   \n",
    "          - Represents whether module is in training or evaluation mode\n",
    "- Functions\n",
    "     - load_state_dict(state_dict)\n",
    "     - parameters()\n",
    "     - required_grad_(bool)\n",
    "     - to(device= torch.device)\n",
    "     - train(mode= bool)\n",
    "     - zero_grad(set_to_none= bool)"
   ]
  },
  {
   "cell_type": "code",
   "execution_count": null,
   "metadata": {},
   "outputs": [],
   "source": [
    "class Model(nn.Module):\n",
    "    def __init__(self):\n",
    "        super().__init__()\n",
    "\n",
    "    def forward(input, target):\n",
    "        return #logits, loss"
   ]
  },
  {
   "cell_type": "code",
   "execution_count": null,
   "metadata": {},
   "outputs": [],
   "source": [
    "model = Model()\n",
    "#logits = model(input, target)      --> Forward is called internally"
   ]
  },
  {
   "cell_type": "code",
   "execution_count": null,
   "metadata": {},
   "outputs": [],
   "source": [
    "#Training Loop\n",
    "epochs = 1000\n",
    "batch_size = 32\n",
    "\n",
    "#give all the parameters that needs to be update to optimizer\n",
    "optimizer = torch.optim.AdamW(model.parameters(), lr=1e-1)\n",
    "\n",
    "for steps in range(epochs):\n",
    "    xb, yb = get_batch('train')\n",
    "    logits, loss = model(xb,yb)\n",
    "\n",
    "    #Get Loss\n",
    "    #Set all derivates = 0\n",
    "    #Get all new Derivates based on Loss\n",
    "    #Update the parameters based on Derivatives and step size\n",
    "\n",
    "    optimizer.zero_grad(set_to_none=True)\n",
    "    loss.backward()\n",
    "    optimizer.step()\n",
    "\n",
    "print(loss.item())"
   ]
  },
  {
   "cell_type": "code",
   "execution_count": null,
   "metadata": {},
   "outputs": [],
   "source": []
  },
  {
   "cell_type": "code",
   "execution_count": null,
   "metadata": {},
   "outputs": [],
   "source": []
  }
 ],
 "metadata": {
  "kernelspec": {
   "display_name": "torch",
   "language": "python",
   "name": "python3"
  },
  "language_info": {
   "codemirror_mode": {
    "name": "ipython",
    "version": 3
   },
   "file_extension": ".py",
   "mimetype": "text/x-python",
   "name": "python",
   "nbconvert_exporter": "python",
   "pygments_lexer": "ipython3",
   "version": "3.12.5"
  }
 },
 "nbformat": 4,
 "nbformat_minor": 2
}
