{
 "cells": [
  {
   "cell_type": "markdown",
   "metadata": {},
   "source": [
    "#### Dependencies"
   ]
  },
  {
   "cell_type": "code",
   "execution_count": 1,
   "metadata": {},
   "outputs": [
    {
     "name": "stdout",
     "output_type": "stream",
     "text": [
      "cuda\n"
     ]
    }
   ],
   "source": [
    "import torch\n",
    "import torch.nn as nn\n",
    "from torch.nn import functional as F\n",
    "torch.manual_seed(1)\n",
    "device = 'cuda' if torch.cuda.is_available() else 'cpu' \n",
    "print(device)"
   ]
  },
  {
   "cell_type": "markdown",
   "metadata": {},
   "source": [
    "#### Hyperparameters"
   ]
  },
  {
   "cell_type": "code",
   "execution_count": 2,
   "metadata": {},
   "outputs": [],
   "source": [
    "batch_size = 64\n",
    "block_size = 265\n",
    "max_iters = 5000\n",
    "eval_intervals = 500\n",
    "learning_rate = 3e-3\n",
    "eval_iters = 200\n",
    "n_embd = 384 \n",
    "n_head = 6\n",
    "n_layers = 6\n",
    "dropout = 0.2 "
   ]
  },
  {
   "cell_type": "markdown",
   "metadata": {},
   "source": [
    "#### Dataset"
   ]
  },
  {
   "cell_type": "code",
   "execution_count": 3,
   "metadata": {},
   "outputs": [],
   "source": [
    "carm = open(r'./../Datasets/Text/Carmilla.txt')\n",
    "dor = open(r'./../Datasets/Text/DorianGray.txt')\n",
    "drac = open(r'./../Datasets/Text/Dracula.txt')\n",
    "edgar = open(r'./../Datasets/Text/EdgarAllanPoe.txt')\n",
    "fran = open(r'./../Datasets/Text/Frankenstein.txt')\n",
    "screw = open(r'./../Datasets/Text/TurnOfScrew.txt')\n",
    "vamp = open(r'./../Datasets/Text/Vampyre.txt')\n",
    "wuth = open(r'./../Datasets/Text/WutheringHeights.txt')\n",
    "yWal = open(r'./../Datasets/Text/YellowWalpaper.txt')\n",
    "text = \"\"\n",
    "text += carm.read() + dor.read() + dor.read() + drac.read() + edgar.read() + fran.read() + screw.read() + vamp.read() + wuth.read() + yWal.read()"
   ]
  },
  {
   "cell_type": "code",
   "execution_count": 4,
   "metadata": {},
   "outputs": [],
   "source": [
    "chars = sorted(list(set(text)))\n",
    "vocab_size = len(chars)"
   ]
  },
  {
   "cell_type": "code",
   "execution_count": 5,
   "metadata": {},
   "outputs": [],
   "source": [
    "stoi = {ch : i for i,ch in enumerate(chars)}\n",
    "itos = {i : ch for i,ch in enumerate(chars)}\n",
    "\n",
    "def encode(chars):\n",
    "    return [stoi[ch] for ch in chars]\n",
    "def decode(tokens):\n",
    "    return ''.join([itos[i] for i in tokens])"
   ]
  },
  {
   "cell_type": "code",
   "execution_count": 6,
   "metadata": {},
   "outputs": [],
   "source": [
    "#Dataset\n",
    "data = torch.tensor(encode(text), dtype =torch.long)"
   ]
  },
  {
   "cell_type": "code",
   "execution_count": 7,
   "metadata": {},
   "outputs": [],
   "source": [
    "#Split\n",
    "n = int(0.9 * len(data))\n",
    "train_data = data[:n]\n",
    "val_data = data[n:]"
   ]
  },
  {
   "cell_type": "code",
   "execution_count": 8,
   "metadata": {},
   "outputs": [],
   "source": [
    "#generate small batches of x and y\n",
    "def get_batch(split):\n",
    "    data = train_data if split == 'train' else val_data\n",
    "    #selecting random subBatches\n",
    "    ix = torch.randint(len(data) - block_size, (batch_size,))\n",
    "    #torch.randint(highvalue, tensorShape)\n",
    "    x = torch.stack([data[i: i+block_size] for i in ix])\n",
    "    #Converts List of tensors into 2d tensors\n",
    "    y = torch.stack([data[i+1:i+block_size+1] for i in ix])\n",
    "    x, y = x.to(device), y.to(device)\n",
    "    return x, y"
   ]
  },
  {
   "cell_type": "code",
   "execution_count": 9,
   "metadata": {},
   "outputs": [],
   "source": [
    "@torch.no_grad()\n",
    "def estimate_loss(model):\n",
    "    out = {}\n",
    "    model.eval()\n",
    "    for split in ['train','val']:\n",
    "        losses = torch.zeros(eval_iters)\n",
    "        for k in range(eval_iters):\n",
    "            X, Y = get_batch(split)\n",
    "            logits, loss = model(X,Y)\n",
    "            losses[k] = loss.item()\n",
    "        out[split] = losses.mean()\n",
    "    model.train()\n",
    "    return out"
   ]
  },
  {
   "cell_type": "markdown",
   "metadata": {},
   "source": [
    "#### Model v1 (Single Head Attention)"
   ]
  },
  {
   "cell_type": "code",
   "execution_count": 10,
   "metadata": {},
   "outputs": [],
   "source": [
    "class Head(nn.Module):\n",
    "    def __init__(self,head_size):\n",
    "        super().__init__()\n",
    "        self.key = nn.Linear(n_embd,head_size, bias = False)\n",
    "        self.query = nn.Linear(n_embd,head_size, bias = False)\n",
    "        self.value = nn.Linear(n_embd,head_size, bias = False)\n",
    "        #not updated by the optimizer\n",
    "        #typically used to store non-learnable data that should be saved and loaded with the model\n",
    "        self.register_buffer('tril', torch.tril(torch.ones(block_size, block_size)))\n",
    "\n",
    "    def forward(self, x):\n",
    "        B,T,C = x.shape\n",
    "        k = self.key(x)\n",
    "        q = self.query(x)\n",
    "        v = self.value(x)\n",
    "        dk = k.shape[-1] ** (-0.5)\n",
    "        wei = q @ k.transpose(-2,-1) * dk\n",
    "        wei = wei.masked_fill(self.tril[:T,:T] == 0, float('-inf'))\n",
    "        wei = F.softmax(wei, dim=-1)\n",
    "\n",
    "        out = wei @ v\n",
    "        return out\n"
   ]
  },
  {
   "cell_type": "code",
   "execution_count": 11,
   "metadata": {},
   "outputs": [],
   "source": [
    "class nanoGPT(nn.Module):\n",
    "    def __init__(self):\n",
    "        super().__init__()\n",
    "        self.token_embedding_table = nn.Embedding(vocab_size,n_embd)\n",
    "        self.positional_embedding_table = nn.Embedding(block_size,n_embd)\n",
    "        self.sa_head = Head(n_embd)\n",
    "        self.lm_head = nn.Linear(n_embd,vocab_size)\n",
    "\n",
    "    def forward(self, idx, target = None):\n",
    "        B,T = idx.shape\n",
    "        tok_emb = self.token_embedding_table(idx)\n",
    "        pos_emb = self.positional_embedding_table(torch.arange(T,device=device))\n",
    "        x = tok_emb + pos_emb\n",
    "        x = self.sa_head(x)\n",
    "        logits = self.lm_head(x)\n",
    "\n",
    "        if target is None:\n",
    "            loss = None\n",
    "        else:\n",
    "            B,T,C = logits.shape\n",
    "            logits = logits.view(B*T,C)\n",
    "            targets = target.view(B*T)\n",
    "            loss = F.cross_entropy(logits,targets)\n",
    "\n",
    "        return logits,loss\n",
    "    \n",
    "    def generate(self,idx, max_new_tokens):\n",
    "        for _ in range(max_new_tokens):\n",
    "            idx_cond = idx[:,-block_size:]\n",
    "            logits, loss = self(idx_cond)\n",
    "            logits = logits[:,-1,:]\n",
    "            probs = F.softmax(logits, dim=-1)\n",
    "            idx_next = torch.multinomial(probs, num_samples=1)\n",
    "            idx = torch.cat((idx,idx_next),dim=1)\n",
    "        return idx"
   ]
  },
  {
   "cell_type": "code",
   "execution_count": 12,
   "metadata": {},
   "outputs": [
    {
     "data": {
      "text/plain": [
       "tensor([0, 1, 2, 3, 4, 5, 6, 7, 8, 9], device='cuda:0')"
      ]
     },
     "execution_count": 12,
     "metadata": {},
     "output_type": "execute_result"
    }
   ],
   "source": [
    "torch.arange(10,device=device)"
   ]
  },
  {
   "cell_type": "code",
   "execution_count": 13,
   "metadata": {},
   "outputs": [],
   "source": [
    "model = nanoGPT()\n",
    "model = model.to(device)"
   ]
  },
  {
   "cell_type": "code",
   "execution_count": 14,
   "metadata": {},
   "outputs": [
    {
     "name": "stdout",
     "output_type": "stream",
     "text": [
      "Input: tensor([[0]], device='cuda:0')\n",
      "Output: tensor([[  0, 105,  22, 105,  11,  87,  43, 114,  25,  51,  98,  72,  46,  32,\n",
      "           6,  88,  72,  90, 115,  92, 112,  59,  83,  83,  75, 107,   8,  10,\n",
      "          66,  66,  62,  26, 111,  94,  58,  78,  30,  27,  48, 113,  82, 101,\n",
      "          62,  46,  23, 100,  83, 101,  98,  36,  53,  69,  90, 115, 101,   4,\n",
      "          18, 101,  37,   5,  65,  99, 111,  20,  77,  31,  73,  23,  67,  94,\n",
      "          83,  88,  78,  49,  26,  39, 114,  55,  83,  13,  65,  12,  24,  53,\n",
      "          51,  35,  94,  29,  55,  52,  89, 103,  87,  36,  42,  38,  95,  30,\n",
      "           7,  65,  95]], device='cuda:0')\n"
     ]
    }
   ],
   "source": [
    "idx = torch.zeros((1,1), dtype=torch.long,device=device)\n",
    "print(\"Input:\",idx)\n",
    "print(\"Output:\",model.generate(idx, max_new_tokens=100))"
   ]
  },
  {
   "cell_type": "code",
   "execution_count": 15,
   "metadata": {},
   "outputs": [
    {
     "name": "stdout",
     "output_type": "stream",
     "text": [
      "2.298800468444824\n"
     ]
    }
   ],
   "source": [
    "#Training Loop\n",
    "optimizer = torch.optim.AdamW(model.parameters(), learning_rate)\n",
    "for steps in range(10000):\n",
    "    xb, yb = get_batch('train')\n",
    "    logits, loss = model(xb,yb)\n",
    "    optimizer.zero_grad(set_to_none=True)\n",
    "    loss.backward()\n",
    "    optimizer.step()\n",
    "\n",
    "print(loss.item())"
   ]
  },
  {
   "cell_type": "code",
   "execution_count": 16,
   "metadata": {},
   "outputs": [
    {
     "name": "stdout",
     "output_type": "stream",
     "text": [
      "\n",
      "          tihnin!Geubabethart seedp ofrane—s\n",
      "Tho ut owok wil soxs wrsprimantppenegeno the; brsesedey\n"
     ]
    }
   ],
   "source": [
    "idx = torch.zeros((1,1), dtype=torch.long).to(device)\n",
    "print(decode(model.generate(idx, max_new_tokens=100)[0].tolist()))"
   ]
  },
  {
   "cell_type": "markdown",
   "metadata": {},
   "source": [
    "#### Model v2 (MultiHead Attention)"
   ]
  },
  {
   "cell_type": "code",
   "execution_count": 17,
   "metadata": {},
   "outputs": [],
   "source": [
    "class MultiHead(nn.Module):\n",
    "    def __init__(self,num_heads, head_size):\n",
    "        super().__init__()\n",
    "        self.heads = nn.ModuleList([Head(head_size) for _ in range(num_heads)])\n",
    "\n",
    "    def forward(self,x):\n",
    "        return torch.cat([h(x) for h in self.heads], dim=-1)\n"
   ]
  },
  {
   "cell_type": "code",
   "execution_count": 18,
   "metadata": {},
   "outputs": [],
   "source": [
    "class nanoGPT(nn.Module):\n",
    "    def __init__(self):\n",
    "        super().__init__()\n",
    "        self.token_embedding_table = nn.Embedding(vocab_size,n_embd)\n",
    "        self.positional_embedding_table = nn.Embedding(block_size,n_embd)\n",
    "        self.sa_heads = MultiHead(n_head,n_embd//n_head)    #6 heads of 8d self attension\n",
    "        self.lm_head = nn.Linear(n_embd,vocab_size)\n",
    "\n",
    "    def forward(self, idx, target = None):\n",
    "        B,T = idx.shape\n",
    "        tok_emb = self.token_embedding_table(idx)\n",
    "        pos_emb = self.positional_embedding_table(torch.arange(T,device=device))\n",
    "        x = tok_emb + pos_emb\n",
    "        x = self.sa_heads(x)\n",
    "        logits = self.lm_head(x)\n",
    "\n",
    "        if target is None:\n",
    "            loss = None\n",
    "        else:\n",
    "            B,T,C = logits.shape\n",
    "            logits = logits.view(B*T,C)\n",
    "            targets = target.view(B*T)\n",
    "            loss = F.cross_entropy(logits,targets)\n",
    "\n",
    "        return logits,loss\n",
    "    \n",
    "    def generate(self,idx, max_new_tokens):\n",
    "        for _ in range(max_new_tokens):\n",
    "            idx_cond = idx[:,-block_size:]\n",
    "            logits, loss = self(idx_cond)\n",
    "            logits = logits[:,-1,:]\n",
    "            probs = F.softmax(logits, dim=-1)\n",
    "            idx_next = torch.multinomial(probs, num_samples=1)\n",
    "            idx = torch.cat((idx,idx_next),dim=1)\n",
    "        return idx"
   ]
  },
  {
   "cell_type": "code",
   "execution_count": 19,
   "metadata": {},
   "outputs": [
    {
     "name": "stdout",
     "output_type": "stream",
     "text": [
      "Input: tensor([[0]], device='cuda:0')\n",
      "Output: tensor([[  0,  44,  20,  24, 101,  95,   9,  48,  57,  60,  95,  36,   0, 111,\n",
      "          43,  35,  95,  68,  52, 115,  38,  18,  14, 101,  28,  77,  44,  39,\n",
      "          59,  69,  47,  57,  65,   2,  37,  64,  36,  26,  57, 107,  10,  15,\n",
      "           0,  28,  93,  97,  71,  75,   9,  26,  64,  95,  73, 112,  37,  62,\n",
      "         114,   7,  11,  21,  70,  84,  10,  16,  10,  75,  83,  97,  35,  53,\n",
      "          47,   0,  26,  42,  62,  40,  75,  27, 103,  95,  70,  14,  72, 109,\n",
      "           2,  10,  36,  74,  94,  36,  55,  10,  11,  41,  59,  95,  38,  61,\n",
      "           7,  19,  65]], device='cuda:0')\n",
      "1.9322537183761597\n",
      "\n",
      "c ansheambe to fixplaty at eof the hay a self ever ase\n",
      "prowethe\n",
      "“Project Gutenbe for beeneensichsue \n"
     ]
    }
   ],
   "source": [
    "model = nanoGPT()\n",
    "model = model.to(device)\n",
    "idx = torch.zeros((1,1), dtype=torch.long,device=device)\n",
    "print(\"Input:\",idx)\n",
    "print(\"Output:\",model.generate(idx, max_new_tokens=100))\n",
    "#Training Loop\n",
    "optimizer = torch.optim.AdamW(model.parameters(), learning_rate)\n",
    "for steps in range(10000):\n",
    "    xb, yb = get_batch('train')\n",
    "    logits, loss = model(xb,yb)\n",
    "    optimizer.zero_grad(set_to_none=True)\n",
    "    loss.backward()\n",
    "    optimizer.step()\n",
    "\n",
    "print(loss.item())\n",
    "idx = torch.zeros((1,1), dtype=torch.long).to(device)\n",
    "print(decode(model.generate(idx, max_new_tokens=100)[0].tolist()))"
   ]
  },
  {
   "cell_type": "markdown",
   "metadata": {},
   "source": [
    "#### Model v3 (Multihead + FeedForward)"
   ]
  },
  {
   "cell_type": "code",
   "execution_count": 20,
   "metadata": {},
   "outputs": [],
   "source": [
    "class FeedForward(nn.Module):\n",
    "    def __init__(self,n_embd):\n",
    "        super().__init__()\n",
    "        self.net = nn.Sequential(\n",
    "        nn.Linear(n_embd, n_embd),\n",
    "        nn.ReLU()\n",
    "        )\n",
    "    \n",
    "    def forward(self,x):\n",
    "        return self.net(x)"
   ]
  },
  {
   "cell_type": "code",
   "execution_count": 21,
   "metadata": {},
   "outputs": [],
   "source": [
    "class nanoGPT(nn.Module):\n",
    "    def __init__(self):\n",
    "        super().__init__()\n",
    "        self.token_embedding_table = nn.Embedding(vocab_size,n_embd)\n",
    "        self.positional_embedding_table = nn.Embedding(block_size,n_embd)\n",
    "        self.sa_heads = MultiHead(n_head,n_embd//n_head)    #6 heads of 8d self attension\n",
    "        self.ffwd = FeedForward(n_embd)\n",
    "        self.lm_head = nn.Linear(n_embd,vocab_size)\n",
    "\n",
    "    def forward(self, idx, target = None):\n",
    "        B,T = idx.shape\n",
    "        tok_emb = self.token_embedding_table(idx)\n",
    "        pos_emb = self.positional_embedding_table(torch.arange(T,device=device))\n",
    "        x = tok_emb + pos_emb\n",
    "        x = self.sa_heads(x)\n",
    "        x = self.ffwd(x)\n",
    "        logits = self.lm_head(x)\n",
    "\n",
    "        if target is None:\n",
    "            loss = None\n",
    "        else:\n",
    "            B,T,C = logits.shape\n",
    "            logits = logits.view(B*T,C)\n",
    "            targets = target.view(B*T)\n",
    "            loss = F.cross_entropy(logits,targets)\n",
    "\n",
    "        return logits,loss\n",
    "    \n",
    "    def generate(self,idx, max_new_tokens):\n",
    "        for _ in range(max_new_tokens):\n",
    "            idx_cond = idx[:,-block_size:]\n",
    "            logits, loss = self(idx_cond)\n",
    "            logits = logits[:,-1,:]\n",
    "            probs = F.softmax(logits, dim=-1)\n",
    "            idx_next = torch.multinomial(probs, num_samples=1)\n",
    "            idx = torch.cat((idx,idx_next),dim=1)\n",
    "        return idx"
   ]
  },
  {
   "cell_type": "code",
   "execution_count": 22,
   "metadata": {},
   "outputs": [
    {
     "name": "stdout",
     "output_type": "stream",
     "text": [
      "Input: tensor([[0]], device='cuda:0')\n",
      "Output: tensor([[  0,  57,  82,  76,  60,   0,  20,   1,  16,  26, 101,  17,  74, 113,\n",
      "          61,  83,  82,  55,  19,  70,  74,  34,  27,  71,  41,  62,  99,  30,\n",
      "          27,  31,   8,   7,  92,  53,  24,  19,  32,  50,  34,  56,  34,  62,\n",
      "          47,  65,  72,  73,  94,  96,  99,  63, 111,  35, 109,  68,  58, 105,\n",
      "          12,  45,  65,  23,  20,   4,  65,  30,  80,  41,  97, 104,  70,  15,\n",
      "          11,   7,  80,  87,  83,  16,  78,  89,  33,  85, 109,  84,  59,   6,\n",
      "          96,   8, 111,  57, 101,  13,  89,  55,  54, 104,  66,  98,  39,  69,\n",
      "         114,  95,  24]], device='cuda:0')\n",
      "1.5401018857955933\n",
      "\n",
      "san-bruggest shay the gold answernary.\n",
      "    Oh, vision sphavemen thimself only this ded other perhow \n"
     ]
    }
   ],
   "source": [
    "model = nanoGPT()\n",
    "model = model.to(device)\n",
    "idx = torch.zeros((1,1), dtype=torch.long,device=device)\n",
    "print(\"Input:\",idx)\n",
    "print(\"Output:\",model.generate(idx, max_new_tokens=100))\n",
    "#Training Loop\n",
    "optimizer = torch.optim.AdamW(model.parameters(), learning_rate)\n",
    "for steps in range(10000):\n",
    "    xb, yb = get_batch('train')\n",
    "    logits, loss = model(xb,yb)\n",
    "    optimizer.zero_grad(set_to_none=True)\n",
    "    loss.backward()\n",
    "    optimizer.step()\n",
    "\n",
    "print(loss.item())\n",
    "idx = torch.zeros((1,1), dtype=torch.long).to(device)\n",
    "print(decode(model.generate(idx, max_new_tokens=100)[0].tolist()))"
   ]
  },
  {
   "cell_type": "markdown",
   "metadata": {},
   "source": [
    "#### Model v4 (Transformer)"
   ]
  },
  {
   "cell_type": "code",
   "execution_count": 32,
   "metadata": {},
   "outputs": [],
   "source": [
    "class Head(nn.Module):\n",
    "    def __init__(self,head_size):\n",
    "        super().__init__()\n",
    "        self.key = nn.Linear(n_embd,head_size, bias = False)\n",
    "        self.query = nn.Linear(n_embd,head_size, bias = False)\n",
    "        self.value = nn.Linear(n_embd,head_size, bias = False)\n",
    "        #not updated by the optimizer\n",
    "        #typically used to store non-learnable data that should be saved and loaded with the model\n",
    "        self.register_buffer('tril', torch.tril(torch.ones(block_size, block_size)))\n",
    "        self.dropout = nn.Dropout(dropout)\n",
    "    def forward(self, x):\n",
    "        B,T,C = x.shape\n",
    "        k = self.key(x)\n",
    "        q = self.query(x)\n",
    "        v = self.value(x)\n",
    "        dk = k.shape[-1] ** (-0.5)\n",
    "        wei = q @ k.transpose(-2,-1) * dk\n",
    "        wei = wei.masked_fill(self.tril[:T,:T] == 0, float('-inf'))\n",
    "        wei = F.softmax(wei, dim=-1)\n",
    "\n",
    "        wei = self.dropout(wei)\n",
    "\n",
    "        out = wei @ v\n",
    "        return out\n"
   ]
  },
  {
   "cell_type": "code",
   "execution_count": 43,
   "metadata": {},
   "outputs": [],
   "source": [
    "class MultiHead(nn.Module):\n",
    "    def __init__(self,num_heads, head_size):\n",
    "        super().__init__()\n",
    "        self.heads = nn.ModuleList([Head(head_size) for _ in range(num_heads)])\n",
    "        self.projection = nn.Linear(n_embd, n_embd)\n",
    "        self.dropout = nn.Dropout(dropout)\n",
    "    def forward(self,x):\n",
    "        out = torch.cat([h(x) for h in self.heads], dim=-1)\n",
    "        out = self.projection(out)\n",
    "        out = self.dropout(out)\n",
    "        return out\n"
   ]
  },
  {
   "cell_type": "code",
   "execution_count": 44,
   "metadata": {},
   "outputs": [],
   "source": [
    "class FeedForward(nn.Module):\n",
    "    def __init__(self,n_embd):\n",
    "        super().__init__()\n",
    "        self.net = nn.Sequential(\n",
    "        nn.Linear(n_embd, 4 * n_embd),\n",
    "        nn.ReLU(),\n",
    "        nn.Linear(4 * n_embd, n_embd),  #Projection Layer\n",
    "        nn.Dropout(dropout),\n",
    "        )\n",
    "    \n",
    "    def forward(self,x):\n",
    "        return self.net(x)"
   ]
  },
  {
   "cell_type": "code",
   "execution_count": null,
   "metadata": {},
   "outputs": [],
   "source": [
    "class Block(nn.Module):\n",
    "    #Decoder Transformer Block (lacks cross attention but has mask)\n",
    "    #Intersparse\n",
    "    #Communication(MultiHead Attention) and Computation(FeedForward)\n",
    "    #PreLayerNorm Formulation\n",
    "    def __init__(self,n_embd, n_head):\n",
    "        super().__init__()\n",
    "        head_size = n_embd // n_head\n",
    "        self.sa = MultiHead(n_head, head_size)\n",
    "        self.ffwd = FeedForward(n_embd)\n",
    "        self.ln1 = nn.LayerNorm(n_embd)\n",
    "        self.ln2 = nn.LayerNorm(n_embd)\n",
    "    def forward(self,x):\n",
    "        x = self.ln1(x)\n",
    "        x = x + self.sa(x)      #Residual Connections/ Skip Connection\n",
    "        x = self.ln2(x)\n",
    "        x = x + self.ffwd(x)\n",
    "        return x "
   ]
  },
  {
   "cell_type": "code",
   "execution_count": 46,
   "metadata": {},
   "outputs": [],
   "source": [
    "class nanoGPT(nn.Module):\n",
    "    def __init__(self):\n",
    "        super().__init__()\n",
    "        self.token_embedding_table = nn.Embedding(vocab_size,n_embd)\n",
    "        self.positional_embedding_table = nn.Embedding(block_size,n_embd)\n",
    "        self.blocks = nn.Sequential(\n",
    "            *[Block(n_embd, n_head = n_head) for _ in range(n_layers)]\n",
    "        )\n",
    "        self.ln_f = nn.LayerNorm(n_embd)\n",
    "        self.lm_head = nn.Linear(n_embd,vocab_size)\n",
    "\n",
    "    def forward(self, idx, target = None):\n",
    "        B,T = idx.shape\n",
    "        tok_emb = self.token_embedding_table(idx)\n",
    "        pos_emb = self.positional_embedding_table(torch.arange(T,device=device))\n",
    "        x = tok_emb + pos_emb\n",
    "        x = self.blocks(x)\n",
    "        x = self.ln_f(x)\n",
    "        logits = self.lm_head(x)\n",
    "\n",
    "        if target is None:\n",
    "            loss = None\n",
    "        else:\n",
    "            B,T,C = logits.shape\n",
    "            logits = logits.view(B*T,C)\n",
    "            targets = target.view(B*T)\n",
    "            loss = F.cross_entropy(logits,targets)\n",
    "\n",
    "        return logits,loss\n",
    "    \n",
    "    def generate(self,idx, max_new_tokens):\n",
    "        for _ in range(max_new_tokens):\n",
    "            idx_cond = idx[:,-block_size:]\n",
    "            logits, loss = self(idx_cond)\n",
    "            logits = logits[:,-1,:]\n",
    "            probs = F.softmax(logits, dim=-1)\n",
    "            idx_next = torch.multinomial(probs, num_samples=1)\n",
    "            idx = torch.cat((idx,idx_next),dim=1)\n",
    "        return idx"
   ]
  },
  {
   "cell_type": "code",
   "execution_count": null,
   "metadata": {},
   "outputs": [
    {
     "name": "stdout",
     "output_type": "stream",
     "text": [
      "Input: tensor([[0]], device='cuda:0')\n",
      "Output: tensor([[  0,  78, 112,  26,  82,  21,  86,  27, 103,  35,  25,   3,   7, 114,\n",
      "          46,  42,  58,  33,  20,  37,  52, 107,  43,   3,  43,  27,  27,  25,\n",
      "          51,  25,   1,  87,  74,  38,  76,   2,  88,  25,  14, 102,  92,  89,\n",
      "          27,  29,   5,  74,   8,  34,  83,  15,  68, 102,   4,  91, 115,  25,\n",
      "          26, 102,  95,  78, 103,  20,  25,  98,  81,  81,   2,  26,  68,  18,\n",
      "          36, 113,  45, 102,  70,  20, 104,  74,  19,  64,  65,  54,  72,  42,\n",
      "         102,  43, 113,  42,  81,  21,  37,  89,   7,  34,  65, 108, 113,  90,\n",
      "         108,  45,  91]], device='cuda:0')\n"
     ]
    }
   ],
   "source": [
    "model = nanoGPT()\n",
    "model = model.to(device)\n",
    "idx = torch.zeros((1,1), dtype=torch.long,device=device)\n",
    "print(\"Input:\",idx)\n",
    "print(\"Output:\",model.generate(idx, max_new_tokens=100))\n",
    "#Training Loop\n",
    "optimizer = torch.optim.AdamW(model.parameters(), learning_rate)\n",
    "for steps in range(10000):\n",
    "    xb, yb = get_batch('train')\n",
    "    logits, loss = model(xb,yb)\n",
    "    optimizer.zero_grad(set_to_none=True)\n",
    "    loss.backward()\n",
    "    optimizer.step()\n",
    "\n",
    "print(loss.item())\n",
    "idx = torch.zeros((1,1), dtype=torch.long).to(device)\n",
    "print(decode(model.generate(idx, max_new_tokens=100)[0].tolist()))"
   ]
  },
  {
   "cell_type": "code",
   "execution_count": null,
   "metadata": {},
   "outputs": [],
   "source": []
  }
 ],
 "metadata": {
  "kernelspec": {
   "display_name": "torch",
   "language": "python",
   "name": "python3"
  },
  "language_info": {
   "codemirror_mode": {
    "name": "ipython",
    "version": 3
   },
   "file_extension": ".py",
   "mimetype": "text/x-python",
   "name": "python",
   "nbconvert_exporter": "python",
   "pygments_lexer": "ipython3",
   "version": "3.12.5"
  }
 },
 "nbformat": 4,
 "nbformat_minor": 2
}
