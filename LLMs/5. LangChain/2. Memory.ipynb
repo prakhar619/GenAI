{
 "cells": [
  {
   "cell_type": "markdown",
   "id": "82b65f89",
   "metadata": {},
   "source": [
    "## Intro to Memory"
   ]
  },
  {
   "cell_type": "markdown",
   "id": "799f52ee",
   "metadata": {},
   "source": [
    "## Intro to LangGraph"
   ]
  },
  {
   "cell_type": "markdown",
   "id": "be15ce3c",
   "metadata": {},
   "source": [
    "State  \n",
    "Node  \n",
    "Edges  "
   ]
  },
  {
   "cell_type": "markdown",
   "id": "0a3e95f8",
   "metadata": {},
   "source": [
    "### State Graph"
   ]
  },
  {
   "cell_type": "markdown",
   "id": "cf0b8a51",
   "metadata": {},
   "source": [
    "### Adding Memory to State Graph"
   ]
  },
  {
   "cell_type": "markdown",
   "id": "9f4d8cb0",
   "metadata": {},
   "source": [
    "### Modify Chat History"
   ]
  },
  {
   "cell_type": "markdown",
   "id": "41786d34",
   "metadata": {},
   "source": [
    "#### -> Trimming Message"
   ]
  },
  {
   "cell_type": "markdown",
   "id": "082217a1",
   "metadata": {},
   "source": [
    "#### -> Filtering Message"
   ]
  },
  {
   "cell_type": "markdown",
   "id": "aa3049d7",
   "metadata": {},
   "source": [
    "#### -> Merging Messages"
   ]
  }
 ],
 "metadata": {
  "language_info": {
   "name": "python"
  }
 },
 "nbformat": 4,
 "nbformat_minor": 5
}
