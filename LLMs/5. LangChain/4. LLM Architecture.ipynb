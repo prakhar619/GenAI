{
 "cells": [
  {
   "cell_type": "markdown",
   "id": "b0b22284",
   "metadata": {},
   "source": [
    "# Cognitive Architectures with LangGraph"
   ]
  },
  {
   "cell_type": "markdown",
   "id": "873fa860",
   "metadata": {},
   "source": [
    "## Architecture 1: LLM Call"
   ]
  },
  {
   "cell_type": "markdown",
   "id": "5a065d71",
   "metadata": {},
   "source": [
    "## Architecture 2: Chain"
   ]
  },
  {
   "cell_type": "markdown",
   "id": "1267fcd8",
   "metadata": {},
   "source": [
    "## Architecture 3: Router"
   ]
  },
  {
   "cell_type": "markdown",
   "id": "a173a92e",
   "metadata": {},
   "source": []
  }
 ],
 "metadata": {
  "language_info": {
   "name": "python"
  }
 },
 "nbformat": 4,
 "nbformat_minor": 5
}
