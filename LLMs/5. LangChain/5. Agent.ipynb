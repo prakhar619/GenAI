{
 "cells": [
  {
   "cell_type": "markdown",
   "id": "e20c95c1",
   "metadata": {},
   "source": [
    "# LangGraph Agent"
   ]
  },
  {
   "cell_type": "markdown",
   "id": "8fb099e1",
   "metadata": {},
   "source": [
    "Agent takes Action; Unlike Previous Version \"Decision Making\" is done here"
   ]
  },
  {
   "cell_type": "markdown",
   "id": "20c4c496",
   "metadata": {},
   "source": [
    "Tools"
   ]
  },
  {
   "cell_type": "markdown",
   "id": "457e1914",
   "metadata": {},
   "source": [
    "## Reflection"
   ]
  },
  {
   "cell_type": "markdown",
   "id": "b059fd82",
   "metadata": {},
   "source": [
    "## SubGraph"
   ]
  },
  {
   "cell_type": "markdown",
   "id": "7d252da3",
   "metadata": {},
   "source": [
    "## Multi Agent Architectures"
   ]
  }
 ],
 "metadata": {
  "language_info": {
   "name": "python"
  }
 },
 "nbformat": 4,
 "nbformat_minor": 5
}
